{
 "cells": [
  {
   "cell_type": "markdown",
   "id": "d1f086cc",
   "metadata": {},
   "source": [
    "Raspando os personagens"
   ]
  },
  {
   "cell_type": "code",
   "execution_count": 36,
   "id": "d2707f18",
   "metadata": {},
   "outputs": [],
   "source": [
    "import pandas as pd\n",
    "from selenium import webdriver\n",
    "from webdriver_manager.chrome import ChromeDriverManager\n",
    "from selenium.webdriver.common.by import By\n",
    "from selenium.webdriver.chrome.service import Service\n",
    "from selenium.webdriver.chrome.options import Options\n",
    "import matplotlib.pyplot as plt\n",
    "import os\n",
    "import logging"
   ]
  },
  {
   "cell_type": "markdown",
   "id": "6018e038",
   "metadata": {},
   "source": [
    "Estabelecendo o driver"
   ]
  },
  {
   "cell_type": "code",
   "execution_count": 37,
   "id": "de8f54de",
   "metadata": {},
   "outputs": [],
   "source": [
    "chrome_options = Options()\n",
    "chrome_options.add_argument(\"--headless\")\n",
    "chrome_options.add_argument(\"--no-sandbox\")\n",
    "\n",
    "logging.getLogger('WDM').setLevel(logging.NOTSET)\n",
    "os.environ['WDM_LOG'] = 'False'\n",
    "\n",
    "webdriver_service = Service(ChromeDriverManager().install())\n",
    "\n",
    "driver = webdriver.Chrome(service=webdriver_service,options=chrome_options)"
   ]
  },
  {
   "cell_type": "markdown",
   "id": "13bc74f6",
   "metadata": {},
   "source": [
    "Função para raspar personagens"
   ]
  },
  {
   "cell_type": "code",
   "execution_count": 38,
   "id": "dd3df597",
   "metadata": {},
   "outputs": [],
   "source": [
    "def raspa(path):\n",
    "    driver.get(path)\n",
    "    categorias = driver.find_elements(by=By.CLASS_NAME,value='category-page__member-link')\n",
    "\n",
    "    livros = []\n",
    "    for categoria in categorias:\n",
    "        livro_url = categoria.get_attribute('href')\n",
    "        livro_name = categoria.text\n",
    "        livros.append({'livro_name': livro_name, \"url\":livro_url})\n",
    "    \n",
    "    character_list = []\n",
    "    for livro in livros:\n",
    "        driver.get(livro['url'])\n",
    "        character_elems = driver.find_elements(by=By.CLASS_NAME, value = 'category-page__member-link')\n",
    "\n",
    "        for elem in character_elems:\n",
    "            character_list.append({'livro': livro['livro_name'],'character': elem.text})\n",
    "    return pd.DataFrame(character_list)"
   ]
  },
  {
   "cell_type": "markdown",
   "id": "c705d75b",
   "metadata": {},
   "source": [
    "Romances"
   ]
  },
  {
   "cell_type": "code",
   "execution_count": 39,
   "id": "15bd2330",
   "metadata": {},
   "outputs": [
    {
     "data": {
      "text/html": [
       "<div>\n",
       "<style scoped>\n",
       "    .dataframe tbody tr th:only-of-type {\n",
       "        vertical-align: middle;\n",
       "    }\n",
       "\n",
       "    .dataframe tbody tr th {\n",
       "        vertical-align: top;\n",
       "    }\n",
       "\n",
       "    .dataframe thead th {\n",
       "        text-align: right;\n",
       "    }\n",
       "</style>\n",
       "<table border=\"1\" class=\"dataframe\">\n",
       "  <thead>\n",
       "    <tr style=\"text-align: right;\">\n",
       "      <th></th>\n",
       "      <th>livro</th>\n",
       "      <th>character</th>\n",
       "    </tr>\n",
       "  </thead>\n",
       "  <tbody>\n",
       "    <tr>\n",
       "      <th>0</th>\n",
       "      <td>Category:4.50 from Paddington characters</td>\n",
       "      <td>Lady Adington</td>\n",
       "    </tr>\n",
       "    <tr>\n",
       "      <th>1</th>\n",
       "      <td>Category:4.50 from Paddington characters</td>\n",
       "      <td>Inspector Awdry</td>\n",
       "    </tr>\n",
       "    <tr>\n",
       "      <th>2</th>\n",
       "      <td>Category:4.50 from Paddington characters</td>\n",
       "      <td>Inspector Bacon</td>\n",
       "    </tr>\n",
       "    <tr>\n",
       "      <th>3</th>\n",
       "      <td>Category:4.50 from Paddington characters</td>\n",
       "      <td>William Baker</td>\n",
       "    </tr>\n",
       "    <tr>\n",
       "      <th>4</th>\n",
       "      <td>Category:4.50 from Paddington characters</td>\n",
       "      <td>Miss Bartlett</td>\n",
       "    </tr>\n",
       "    <tr>\n",
       "      <th>...</th>\n",
       "      <td>...</td>\n",
       "      <td>...</td>\n",
       "    </tr>\n",
       "    <tr>\n",
       "      <th>1920</th>\n",
       "      <td>Category:Three Act Tragedy characters</td>\n",
       "      <td>Sir Bartholomew Strange</td>\n",
       "    </tr>\n",
       "    <tr>\n",
       "      <th>1921</th>\n",
       "      <td>Category:Three Act Tragedy characters</td>\n",
       "      <td>Angela Sutcliffe</td>\n",
       "    </tr>\n",
       "    <tr>\n",
       "      <th>1922</th>\n",
       "      <td>Category:Three Act Tragedy characters</td>\n",
       "      <td>Temple (Three Act Tragedy)</td>\n",
       "    </tr>\n",
       "    <tr>\n",
       "      <th>1923</th>\n",
       "      <td>Category:Three Act Tragedy characters</td>\n",
       "      <td>Alice West</td>\n",
       "    </tr>\n",
       "    <tr>\n",
       "      <th>1924</th>\n",
       "      <td>Category:Three Act Tragedy characters</td>\n",
       "      <td>Muriel Wills</td>\n",
       "    </tr>\n",
       "  </tbody>\n",
       "</table>\n",
       "<p>1925 rows × 2 columns</p>\n",
       "</div>"
      ],
      "text/plain": [
       "                                         livro                   character\n",
       "0     Category:4.50 from Paddington characters               Lady Adington\n",
       "1     Category:4.50 from Paddington characters             Inspector Awdry\n",
       "2     Category:4.50 from Paddington characters             Inspector Bacon\n",
       "3     Category:4.50 from Paddington characters               William Baker\n",
       "4     Category:4.50 from Paddington characters               Miss Bartlett\n",
       "...                                        ...                         ...\n",
       "1920     Category:Three Act Tragedy characters     Sir Bartholomew Strange\n",
       "1921     Category:Three Act Tragedy characters            Angela Sutcliffe\n",
       "1922     Category:Three Act Tragedy characters  Temple (Three Act Tragedy)\n",
       "1923     Category:Three Act Tragedy characters                  Alice West\n",
       "1924     Category:Three Act Tragedy characters                Muriel Wills\n",
       "\n",
       "[1925 rows x 2 columns]"
      ]
     },
     "execution_count": 39,
     "metadata": {},
     "output_type": "execute_result"
    }
   ],
   "source": [
    "novels_path = \"https://agathachristie.fandom.com/wiki/Category:Characters_by_novel\"\n",
    "romance = raspa(novels_path)\n",
    "romance"
   ]
  },
  {
   "cell_type": "markdown",
   "id": "c8ef4d99",
   "metadata": {},
   "source": [
    "Novelas"
   ]
  },
  {
   "cell_type": "code",
   "execution_count": 40,
   "id": "d4d025be",
   "metadata": {},
   "outputs": [],
   "source": [
    "short_path = \"https://agathachristie.fandom.com/wiki/Category:Characters_by_short_story\"\n",
    "novelas = raspa(short_path)\n"
   ]
  },
  {
   "cell_type": "markdown",
   "id": "8ae9837a",
   "metadata": {},
   "source": [
    "Peças"
   ]
  },
  {
   "cell_type": "code",
   "execution_count": 41,
   "id": "bf7fd128",
   "metadata": {},
   "outputs": [],
   "source": [
    "peca_path = \"https://agathachristie.fandom.com/wiki/Category:Characters_by_stage_play\"\n",
    "pecas = raspa(peca_path)"
   ]
  },
  {
   "cell_type": "markdown",
   "id": "67eabb23",
   "metadata": {},
   "source": [
    "Juntando as três em um dataframe"
   ]
  },
  {
   "cell_type": "code",
   "execution_count": 42,
   "id": "3e3f35a9",
   "metadata": {},
   "outputs": [
    {
     "data": {
      "text/html": [
       "<div>\n",
       "<style scoped>\n",
       "    .dataframe tbody tr th:only-of-type {\n",
       "        vertical-align: middle;\n",
       "    }\n",
       "\n",
       "    .dataframe tbody tr th {\n",
       "        vertical-align: top;\n",
       "    }\n",
       "\n",
       "    .dataframe thead th {\n",
       "        text-align: right;\n",
       "    }\n",
       "</style>\n",
       "<table border=\"1\" class=\"dataframe\">\n",
       "  <thead>\n",
       "    <tr style=\"text-align: right;\">\n",
       "      <th></th>\n",
       "      <th>livro</th>\n",
       "      <th>character</th>\n",
       "    </tr>\n",
       "  </thead>\n",
       "  <tbody>\n",
       "    <tr>\n",
       "      <th>0</th>\n",
       "      <td>Category:4.50 from Paddington characters</td>\n",
       "      <td>Alexander Eastley</td>\n",
       "    </tr>\n",
       "    <tr>\n",
       "      <th>1</th>\n",
       "      <td>Category:4.50 from Paddington characters</td>\n",
       "      <td>Alfred Crackenthorpe</td>\n",
       "    </tr>\n",
       "    <tr>\n",
       "      <th>2</th>\n",
       "      <td>Category:4.50 from Paddington characters</td>\n",
       "      <td>Alice Crackenthorpe</td>\n",
       "    </tr>\n",
       "    <tr>\n",
       "      <th>3</th>\n",
       "      <td>Category:4.50 from Paddington characters</td>\n",
       "      <td>Anna Stravinska</td>\n",
       "    </tr>\n",
       "    <tr>\n",
       "      <th>4</th>\n",
       "      <td>Category:4.50 from Paddington characters</td>\n",
       "      <td>Archibald Spate</td>\n",
       "    </tr>\n",
       "    <tr>\n",
       "      <th>...</th>\n",
       "      <td>...</td>\n",
       "      <td>...</td>\n",
       "    </tr>\n",
       "    <tr>\n",
       "      <th>2160</th>\n",
       "      <td>Category:Within a Wall characters</td>\n",
       "      <td>Miss Bates</td>\n",
       "    </tr>\n",
       "    <tr>\n",
       "      <th>2161</th>\n",
       "      <td>Category:Within a Wall characters</td>\n",
       "      <td>Mrs Lemprière</td>\n",
       "    </tr>\n",
       "    <tr>\n",
       "      <th>2162</th>\n",
       "      <td>Category:Within a Wall characters</td>\n",
       "      <td>Sir Rufus Herschman</td>\n",
       "    </tr>\n",
       "    <tr>\n",
       "      <th>2163</th>\n",
       "      <td>Category:Within a Wall characters</td>\n",
       "      <td>The Marches</td>\n",
       "    </tr>\n",
       "    <tr>\n",
       "      <th>2164</th>\n",
       "      <td>Category:Within a Wall characters</td>\n",
       "      <td>Winnie (Within a Wall)</td>\n",
       "    </tr>\n",
       "  </tbody>\n",
       "</table>\n",
       "<p>2165 rows × 2 columns</p>\n",
       "</div>"
      ],
      "text/plain": [
       "                                         livro               character\n",
       "0     Category:4.50 from Paddington characters       Alexander Eastley\n",
       "1     Category:4.50 from Paddington characters    Alfred Crackenthorpe\n",
       "2     Category:4.50 from Paddington characters     Alice Crackenthorpe\n",
       "3     Category:4.50 from Paddington characters         Anna Stravinska\n",
       "4     Category:4.50 from Paddington characters         Archibald Spate\n",
       "...                                        ...                     ...\n",
       "2160         Category:Within a Wall characters              Miss Bates\n",
       "2161         Category:Within a Wall characters           Mrs Lemprière\n",
       "2162         Category:Within a Wall characters     Sir Rufus Herschman\n",
       "2163         Category:Within a Wall characters             The Marches\n",
       "2164         Category:Within a Wall characters  Winnie (Within a Wall)\n",
       "\n",
       "[2165 rows x 2 columns]"
      ]
     },
     "execution_count": 42,
     "metadata": {},
     "output_type": "execute_result"
    }
   ],
   "source": [
    "personagens = pd.merge(romance,novelas,how = 'outer')\n",
    "personagens = pd.merge(personagens,pecas,how = 'outer')\n",
    "personagens"
   ]
  },
  {
   "cell_type": "code",
   "execution_count": 43,
   "id": "a0b34e13",
   "metadata": {},
   "outputs": [],
   "source": [
    "#personagens = personagens.drop('livro', axis = 1)\n"
   ]
  },
  {
   "cell_type": "code",
   "execution_count": 44,
   "id": "b407f1a5",
   "metadata": {},
   "outputs": [
    {
     "data": {
      "text/html": [
       "<div>\n",
       "<style scoped>\n",
       "    .dataframe tbody tr th:only-of-type {\n",
       "        vertical-align: middle;\n",
       "    }\n",
       "\n",
       "    .dataframe tbody tr th {\n",
       "        vertical-align: top;\n",
       "    }\n",
       "\n",
       "    .dataframe thead th {\n",
       "        text-align: right;\n",
       "    }\n",
       "</style>\n",
       "<table border=\"1\" class=\"dataframe\">\n",
       "  <thead>\n",
       "    <tr style=\"text-align: right;\">\n",
       "      <th></th>\n",
       "      <th>character</th>\n",
       "    </tr>\n",
       "  </thead>\n",
       "  <tbody>\n",
       "    <tr>\n",
       "      <th>0</th>\n",
       "      <td>Alexander Eastley</td>\n",
       "    </tr>\n",
       "    <tr>\n",
       "      <th>1</th>\n",
       "      <td>Alfred Crackenthorpe</td>\n",
       "    </tr>\n",
       "    <tr>\n",
       "      <th>2</th>\n",
       "      <td>Alice Crackenthorpe</td>\n",
       "    </tr>\n",
       "    <tr>\n",
       "      <th>3</th>\n",
       "      <td>Anna Stravinska</td>\n",
       "    </tr>\n",
       "    <tr>\n",
       "      <th>4</th>\n",
       "      <td>Archibald Spate</td>\n",
       "    </tr>\n",
       "    <tr>\n",
       "      <th>...</th>\n",
       "      <td>...</td>\n",
       "    </tr>\n",
       "    <tr>\n",
       "      <th>2160</th>\n",
       "      <td>Miss Bates</td>\n",
       "    </tr>\n",
       "    <tr>\n",
       "      <th>2161</th>\n",
       "      <td>Mrs Lemprière</td>\n",
       "    </tr>\n",
       "    <tr>\n",
       "      <th>2162</th>\n",
       "      <td>Sir Rufus Herschman</td>\n",
       "    </tr>\n",
       "    <tr>\n",
       "      <th>2163</th>\n",
       "      <td>The Marches</td>\n",
       "    </tr>\n",
       "    <tr>\n",
       "      <th>2164</th>\n",
       "      <td>Winnie (Within a Wall)</td>\n",
       "    </tr>\n",
       "  </tbody>\n",
       "</table>\n",
       "<p>2165 rows × 1 columns</p>\n",
       "</div>"
      ],
      "text/plain": [
       "                   character\n",
       "0          Alexander Eastley\n",
       "1       Alfred Crackenthorpe\n",
       "2        Alice Crackenthorpe\n",
       "3            Anna Stravinska\n",
       "4            Archibald Spate\n",
       "...                      ...\n",
       "2160              Miss Bates\n",
       "2161           Mrs Lemprière\n",
       "2162     Sir Rufus Herschman\n",
       "2163             The Marches\n",
       "2164  Winnie (Within a Wall)\n",
       "\n",
       "[2165 rows x 1 columns]"
      ]
     },
     "execution_count": 44,
     "metadata": {},
     "output_type": "execute_result"
    }
   ],
   "source": [
    "personagens"
   ]
  },
  {
   "cell_type": "code",
   "execution_count": 45,
   "id": "5018e24a",
   "metadata": {},
   "outputs": [],
   "source": [
    "personagens = personagens.drop_duplicates()"
   ]
  },
  {
   "cell_type": "code",
   "execution_count": 46,
   "id": "6008f194",
   "metadata": {},
   "outputs": [
    {
     "data": {
      "text/html": [
       "<div>\n",
       "<style scoped>\n",
       "    .dataframe tbody tr th:only-of-type {\n",
       "        vertical-align: middle;\n",
       "    }\n",
       "\n",
       "    .dataframe tbody tr th {\n",
       "        vertical-align: top;\n",
       "    }\n",
       "\n",
       "    .dataframe thead th {\n",
       "        text-align: right;\n",
       "    }\n",
       "</style>\n",
       "<table border=\"1\" class=\"dataframe\">\n",
       "  <thead>\n",
       "    <tr style=\"text-align: right;\">\n",
       "      <th></th>\n",
       "      <th>character</th>\n",
       "    </tr>\n",
       "  </thead>\n",
       "  <tbody>\n",
       "    <tr>\n",
       "      <th>0</th>\n",
       "      <td>Alexander Eastley</td>\n",
       "    </tr>\n",
       "    <tr>\n",
       "      <th>1</th>\n",
       "      <td>Alfred Crackenthorpe</td>\n",
       "    </tr>\n",
       "    <tr>\n",
       "      <th>2</th>\n",
       "      <td>Alice Crackenthorpe</td>\n",
       "    </tr>\n",
       "    <tr>\n",
       "      <th>3</th>\n",
       "      <td>Anna Stravinska</td>\n",
       "    </tr>\n",
       "    <tr>\n",
       "      <th>4</th>\n",
       "      <td>Archibald Spate</td>\n",
       "    </tr>\n",
       "    <tr>\n",
       "      <th>...</th>\n",
       "      <td>...</td>\n",
       "    </tr>\n",
       "    <tr>\n",
       "      <th>2160</th>\n",
       "      <td>Miss Bates</td>\n",
       "    </tr>\n",
       "    <tr>\n",
       "      <th>2161</th>\n",
       "      <td>Mrs Lemprière</td>\n",
       "    </tr>\n",
       "    <tr>\n",
       "      <th>2162</th>\n",
       "      <td>Sir Rufus Herschman</td>\n",
       "    </tr>\n",
       "    <tr>\n",
       "      <th>2163</th>\n",
       "      <td>The Marches</td>\n",
       "    </tr>\n",
       "    <tr>\n",
       "      <th>2164</th>\n",
       "      <td>Winnie (Within a Wall)</td>\n",
       "    </tr>\n",
       "  </tbody>\n",
       "</table>\n",
       "<p>2115 rows × 1 columns</p>\n",
       "</div>"
      ],
      "text/plain": [
       "                   character\n",
       "0          Alexander Eastley\n",
       "1       Alfred Crackenthorpe\n",
       "2        Alice Crackenthorpe\n",
       "3            Anna Stravinska\n",
       "4            Archibald Spate\n",
       "...                      ...\n",
       "2160              Miss Bates\n",
       "2161           Mrs Lemprière\n",
       "2162     Sir Rufus Herschman\n",
       "2163             The Marches\n",
       "2164  Winnie (Within a Wall)\n",
       "\n",
       "[2115 rows x 1 columns]"
      ]
     },
     "execution_count": 46,
     "metadata": {},
     "output_type": "execute_result"
    }
   ],
   "source": [
    "personagens"
   ]
  },
  {
   "cell_type": "markdown",
   "id": "7d58d630",
   "metadata": {},
   "source": [
    "Gerando csv com os nomes dos personagens"
   ]
  },
  {
   "cell_type": "code",
   "execution_count": 47,
   "id": "3efbfcc5",
   "metadata": {},
   "outputs": [],
   "source": [
    "personagens['character'].to_csv('personagens.csv',index=False,header=False)"
   ]
  },
  {
   "cell_type": "markdown",
   "id": "c81fabfc",
   "metadata": {},
   "source": [
    "Alguns personagens chave ficaram faltando, então acrescentei manualmente:"
   ]
  },
  {
   "cell_type": "code",
   "execution_count": 48,
   "id": "dd4ed536",
   "metadata": {},
   "outputs": [],
   "source": [
    "import io\n",
    "arquivo_csv = 'personagens.csv'\n",
    "arquivo_txt = 'faltando.txt'\n",
    "\n",
    "try:\n",
    "    df_testes = pd.read_csv(arquivo_csv)\n",
    "except FileNotFoundError:\n",
    "    print(f\"Erro: O arquivo '{arquivo_csv}' não foi encontrado.\")\n",
    "    exit()\n",
    "\n",
    "try:\n",
    "    with open(arquivo_txt, 'r', encoding='utf-8') as f:\n",
    "        linhas_faltando = f.read().splitlines()\n",
    "except FileNotFoundError:\n",
    "    print(f\"Erro: O arquivo '{arquivo_txt}' não foi encontrado.\")\n",
    "    exit()\n",
    "\n",
    "# 3. Criar um DataFrame a partir das linhas a serem adicionadas\n",
    "# Assumindo que a coluna no CSV é a primeira (índice 0). Você pode precisar ajustar o nome da coluna.\n",
    "nome_da_coluna = df_testes.columns[0] if not df_testes.empty else 'Nome' # Tenta pegar o nome da primeira coluna ou usa 'Nome'\n",
    "df_faltando = pd.DataFrame(linhas_faltando, columns=[nome_da_coluna])\n",
    "\n",
    "# 4. Acrescentar (concatenar) as novas linhas ao DataFrame original\n",
    "# 'ignore_index=True' garante que o novo DataFrame tenha um índice sequencial correto\n",
    "df_resultado = pd.concat([df_testes, df_faltando], ignore_index=True)\n",
    "\n",
    "# 5. Salvar o DataFrame resultante de volta em um novo arquivo CSV (ou substituir o original, se desejar)\n",
    "arquivo_saida = 'personagens.csv'\n",
    "df_resultado.to_csv(arquivo_saida, index=False) # index=False evita escrever o índice do DataFrame como uma coluna no CSV\n"
   ]
  }
 ],
 "metadata": {
  "kernelspec": {
   "display_name": "Python 3",
   "language": "python",
   "name": "python3"
  },
  "language_info": {
   "codemirror_mode": {
    "name": "ipython",
    "version": 3
   },
   "file_extension": ".py",
   "mimetype": "text/x-python",
   "name": "python",
   "nbconvert_exporter": "python",
   "pygments_lexer": "ipython3",
   "version": "3.12.5"
  }
 },
 "nbformat": 4,
 "nbformat_minor": 5
}
